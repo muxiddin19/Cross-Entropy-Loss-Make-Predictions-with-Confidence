{
 "cells": [
  {
   "cell_type": "markdown",
   "metadata": {},
   "source": [
    "https://www.pinecone.io/learn/softmax-activation/"
   ]
  },
  {
   "cell_type": "code",
   "execution_count": 1,
   "metadata": {},
   "outputs": [
    {
     "data": {
      "text/plain": [
       "[Text(0.5, 1.0, 'Sigmoid Function')]"
      ]
     },
     "execution_count": 1,
     "metadata": {},
     "output_type": "execute_result"
    },
    {
     "data": {
      "image/png": "[encoded data removed]",
      "text/plain": [
       "<Figure size 432x288 with 1 Axes>"
      ]
     },
     "metadata": {},
     "output_type": "display_data"
    }
   ],
   "source": [
    "import numpy as np\n",
    "import seaborn as sns\n",
    "\n",
    "def sigmoid(x):\n",
    "  exp_x = np.exp(x)\n",
    "  return np.divide(exp_x,(1 + exp_x))\n",
    "  \n",
    "x = np.linspace(-10,10,num=200)\n",
    "exp_x = np.exp(x)\n",
    "sigmoid_arr = sigmoid(x)\n",
    "\n",
    "sns.set_theme()\n",
    "sns.lineplot(x = x,y = sigmoid_arr).set(title='Sigmoid Function')"
   ]
  },
  {
   "cell_type": "code",
   "execution_count": 2,
   "metadata": {},
   "outputs": [],
   "source": [
    "import numpy as np\n",
    "\n",
    "def softmax(z):\n",
    "  '''Return the softmax output of a vector.'''\n",
    "  exp_z = np.exp(z)\n",
    "  sum = exp_z.sum()\n",
    "  softmax_z = np.round(exp_z/sum,3)\n",
    "  return softmax_z"
   ]
  },
  {
   "cell_type": "code",
   "execution_count": 3,
   "metadata": {},
   "outputs": [
    {
     "data": {
      "text/plain": [
       "array([0.249, 0.664, 0.087])"
      ]
     },
     "execution_count": 3,
     "metadata": {},
     "output_type": "execute_result"
    }
   ],
   "source": [
    "z = [0.25, 1.23, -0.8]\n",
    "softmax(z)\n",
    "\n"
   ]
  },
  {
   "cell_type": "code",
   "execution_count": 4,
   "metadata": {},
   "outputs": [],
   "source": [
    "def div_by_sum(z):\n",
    "  sum_z = np.sum(z)\n",
    "  out_z = np.round(z/sum_z,3)\n",
    "  return out_z"
   ]
  },
  {
   "cell_type": "code",
   "execution_count": 5,
   "metadata": {},
   "outputs": [
    {
     "data": {
      "text/plain": [
       "array([ 0.368,  1.809, -1.176])"
      ]
     },
     "execution_count": 5,
     "metadata": {},
     "output_type": "execute_result"
    }
   ],
   "source": [
    "z1 = [0.25,1.23,-0.8]\n",
    "div_by_sum(z1)"
   ]
  },
  {
   "cell_type": "code",
   "execution_count": 6,
   "metadata": {},
   "outputs": [
    {
     "name": "stderr",
     "output_type": "stream",
     "text": [
      "/home/muhiddin/miniconda3/envs/slt2/lib/python3.6/site-packages/ipykernel_launcher.py:3: RuntimeWarning: divide by zero encountered in true_divide\n",
      "  This is separate from the ipykernel package so we can avoid doing imports until\n"
     ]
    },
    {
     "data": {
      "text/plain": [
       "array([-inf,  inf, -inf])"
      ]
     },
     "execution_count": 6,
     "metadata": {},
     "output_type": "execute_result"
    }
   ],
   "source": [
    "z2 = [-0.25,1,-0.75]\n",
    "div_by_sum(z2)"
   ]
  },
  {
   "cell_type": "code",
   "execution_count": 7,
   "metadata": {},
   "outputs": [
    {
     "name": "stdout",
     "output_type": "stream",
     "text": [
      "[0.083 0.75  0.167]\n",
      "[0.231 0.514 0.255]\n"
     ]
    }
   ],
   "source": [
    "z3 = [0.1,0.9,0.2] # ratio: 1:9:2\n",
    "print(div_by_sum(z3))\n",
    "print(softmax(z3))"
   ]
  },
  {
   "cell_type": "code",
   "execution_count": 8,
   "metadata": {},
   "outputs": [
    {
     "name": "stdout",
     "output_type": "stream",
     "text": [
      "[0.  0.9 0.1]\n",
      "[0.219 0.539 0.242]\n"
     ]
    }
   ],
   "source": [
    "z4 = [0,0.9,0.1]\n",
    "print(div_by_sum(z4))\n",
    "print(softmax(z4))"
   ]
  },
  {
   "cell_type": "code",
   "execution_count": null,
   "metadata": {},
   "outputs": [],
   "source": []
  }
 ],
 "metadata": {
  "kernelspec": {
   "display_name": "slt2",
   "language": "python",
   "name": "python3"
  },
  "language_info": {
   "codemirror_mode": {
    "name": "ipython",
    "version": 3
   },
   "file_extension": ".py",
   "mimetype": "text/x-python",
   "name": "python",
   "nbconvert_exporter": "python",
   "pygments_lexer": "ipython3",
   "version": "3.6.13"
  }
 },
 "nbformat": 4,
 "nbformat_minor": 2
}
